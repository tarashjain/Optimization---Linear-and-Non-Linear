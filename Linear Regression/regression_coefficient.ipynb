{
  "nbformat": 4,
  "nbformat_minor": 0,
  "metadata": {
    "kernelspec": {
      "display_name": "Python 3",
      "language": "python",
      "name": "python3"
    },
    "language_info": {
      "codemirror_mode": {
        "name": "ipython",
        "version": 3
      },
      "file_extension": ".py",
      "mimetype": "text/x-python",
      "name": "python",
      "nbconvert_exporter": "python",
      "pygments_lexer": "ipython3",
      "version": "3.7.3"
    },
    "colab": {
      "name": "Quiz 1-Work sheet.ipynb",
      "provenance": []
    }
  },
  "cells": [
    {
      "cell_type": "markdown",
      "metadata": {
        "id": "oPG-9-HvfoSk"
      },
      "source": [
        "This exercise explains how we can use linear optimization to find the optimized value of the coefficient and the intercept of the regression line. \n",
        "\n",
        "We will also use the scikit learn package to compare the regression coefficient's value obtained using linear programming. \n",
        "\n",
        "We will use the pulp package to solve the set of linear optimization. \n",
        "\n",
        "More description of the problem is given in the readme file.\n"
      ]
    },
    {
      "cell_type": "code",
      "metadata": {
        "id": "tSdzysZYquVJ",
        "colab": {
          "base_uri": "https://localhost:8080/"
        },
        "outputId": "03fbb6ea-5c2e-43fb-b182-33fa031b7c0f"
      },
      "source": [
        "!pip install pulp\n",
        "import pandas as pd\n",
        "import numpy as np\n",
        "from sklearn import linear_model"
      ],
      "execution_count": 7,
      "outputs": [
        {
          "output_type": "stream",
          "text": [
            "Requirement already satisfied: pulp in /usr/local/lib/python3.6/dist-packages (2.3.1)\n",
            "Requirement already satisfied: amply>=0.1.2 in /usr/local/lib/python3.6/dist-packages (from pulp) (0.1.4)\n",
            "Requirement already satisfied: docutils>=0.3 in /usr/local/lib/python3.6/dist-packages (from amply>=0.1.2->pulp) (0.16)\n",
            "Requirement already satisfied: pyparsing in /usr/local/lib/python3.6/dist-packages (from amply>=0.1.2->pulp) (2.4.7)\n"
          ],
          "name": "stdout"
        }
      ]
    },
    {
      "cell_type": "markdown",
      "metadata": {
        "id": "uVhFSC_BgmjV"
      },
      "source": [
        "Loading Data - We have used a stock market data, where we are assuming Stock_Index_Price = f(Interest_Rate , Unemployment_Rate)\n",
        "The general equation will be given by:\n",
        "Stock Index = b1 * Interest Rate +  b2 * Unemployment Rate + b0"
      ]
    },
    {
      "cell_type": "code",
      "metadata": {
        "id": "ofXalEfGquVj",
        "colab": {
          "base_uri": "https://localhost:8080/",
          "height": 802
        },
        "outputId": "ad5e347d-d393-4b3a-dc9d-2fc2eda95262"
      },
      "source": [
        "Stock_Market = {'Year': [2017,2017,2017,2017,2017,2017,2017,2017,2017,2017,2017,2017,2016,2016,2016,2016,2016,2016,2016,2016,2016,2016,2016,2016],\n",
        "                'Month': [12, 11,10,9,8,7,6,5,4,3,2,1,12,11,10,9,8,7,6,5,4,3,2,1],\n",
        "                'Interest_Rate': [2.75,2.5,2.5,2.5,2.5,2.5,2.5,2.25,2.25,2.25,2,2,2,1.75,1.75,1.75,1.75,1.75,1.75,1.75,1.75,1.75,1.75,1.75],\n",
        "                'Unemployment_Rate': [5.3,5.3,5.3,5.3,5.4,5.6,5.5,5.5,5.5,5.6,5.7,5.9,6,5.9,5.8,6.1,6.2,6.1,6.1,6.1,5.9,6.2,6.2,6.1],\n",
        "                'Stock_Index_Price': [1464,1394,1357,1293,1256,1254,1234,1195,1159,1167,1130,1075,1047,965,943,958,971,949,884,866,876,822,704,719]        \n",
        "                }\n",
        "df = pd.DataFrame(Stock_Market,columns=['Year','Month','Interest_Rate','Unemployment_Rate','Stock_Index_Price']) \n",
        "X = df[['Interest_Rate','Unemployment_Rate']] \n",
        "Y = df['Stock_Index_Price']\n",
        "X = X.to_numpy()\n",
        "Y = Y.to_numpy()\n",
        "df"
      ],
      "execution_count": 8,
      "outputs": [
        {
          "output_type": "execute_result",
          "data": {
            "text/html": [
              "<div>\n",
              "<style scoped>\n",
              "    .dataframe tbody tr th:only-of-type {\n",
              "        vertical-align: middle;\n",
              "    }\n",
              "\n",
              "    .dataframe tbody tr th {\n",
              "        vertical-align: top;\n",
              "    }\n",
              "\n",
              "    .dataframe thead th {\n",
              "        text-align: right;\n",
              "    }\n",
              "</style>\n",
              "<table border=\"1\" class=\"dataframe\">\n",
              "  <thead>\n",
              "    <tr style=\"text-align: right;\">\n",
              "      <th></th>\n",
              "      <th>Year</th>\n",
              "      <th>Month</th>\n",
              "      <th>Interest_Rate</th>\n",
              "      <th>Unemployment_Rate</th>\n",
              "      <th>Stock_Index_Price</th>\n",
              "    </tr>\n",
              "  </thead>\n",
              "  <tbody>\n",
              "    <tr>\n",
              "      <th>0</th>\n",
              "      <td>2017</td>\n",
              "      <td>12</td>\n",
              "      <td>2.75</td>\n",
              "      <td>5.3</td>\n",
              "      <td>1464</td>\n",
              "    </tr>\n",
              "    <tr>\n",
              "      <th>1</th>\n",
              "      <td>2017</td>\n",
              "      <td>11</td>\n",
              "      <td>2.50</td>\n",
              "      <td>5.3</td>\n",
              "      <td>1394</td>\n",
              "    </tr>\n",
              "    <tr>\n",
              "      <th>2</th>\n",
              "      <td>2017</td>\n",
              "      <td>10</td>\n",
              "      <td>2.50</td>\n",
              "      <td>5.3</td>\n",
              "      <td>1357</td>\n",
              "    </tr>\n",
              "    <tr>\n",
              "      <th>3</th>\n",
              "      <td>2017</td>\n",
              "      <td>9</td>\n",
              "      <td>2.50</td>\n",
              "      <td>5.3</td>\n",
              "      <td>1293</td>\n",
              "    </tr>\n",
              "    <tr>\n",
              "      <th>4</th>\n",
              "      <td>2017</td>\n",
              "      <td>8</td>\n",
              "      <td>2.50</td>\n",
              "      <td>5.4</td>\n",
              "      <td>1256</td>\n",
              "    </tr>\n",
              "    <tr>\n",
              "      <th>5</th>\n",
              "      <td>2017</td>\n",
              "      <td>7</td>\n",
              "      <td>2.50</td>\n",
              "      <td>5.6</td>\n",
              "      <td>1254</td>\n",
              "    </tr>\n",
              "    <tr>\n",
              "      <th>6</th>\n",
              "      <td>2017</td>\n",
              "      <td>6</td>\n",
              "      <td>2.50</td>\n",
              "      <td>5.5</td>\n",
              "      <td>1234</td>\n",
              "    </tr>\n",
              "    <tr>\n",
              "      <th>7</th>\n",
              "      <td>2017</td>\n",
              "      <td>5</td>\n",
              "      <td>2.25</td>\n",
              "      <td>5.5</td>\n",
              "      <td>1195</td>\n",
              "    </tr>\n",
              "    <tr>\n",
              "      <th>8</th>\n",
              "      <td>2017</td>\n",
              "      <td>4</td>\n",
              "      <td>2.25</td>\n",
              "      <td>5.5</td>\n",
              "      <td>1159</td>\n",
              "    </tr>\n",
              "    <tr>\n",
              "      <th>9</th>\n",
              "      <td>2017</td>\n",
              "      <td>3</td>\n",
              "      <td>2.25</td>\n",
              "      <td>5.6</td>\n",
              "      <td>1167</td>\n",
              "    </tr>\n",
              "    <tr>\n",
              "      <th>10</th>\n",
              "      <td>2017</td>\n",
              "      <td>2</td>\n",
              "      <td>2.00</td>\n",
              "      <td>5.7</td>\n",
              "      <td>1130</td>\n",
              "    </tr>\n",
              "    <tr>\n",
              "      <th>11</th>\n",
              "      <td>2017</td>\n",
              "      <td>1</td>\n",
              "      <td>2.00</td>\n",
              "      <td>5.9</td>\n",
              "      <td>1075</td>\n",
              "    </tr>\n",
              "    <tr>\n",
              "      <th>12</th>\n",
              "      <td>2016</td>\n",
              "      <td>12</td>\n",
              "      <td>2.00</td>\n",
              "      <td>6.0</td>\n",
              "      <td>1047</td>\n",
              "    </tr>\n",
              "    <tr>\n",
              "      <th>13</th>\n",
              "      <td>2016</td>\n",
              "      <td>11</td>\n",
              "      <td>1.75</td>\n",
              "      <td>5.9</td>\n",
              "      <td>965</td>\n",
              "    </tr>\n",
              "    <tr>\n",
              "      <th>14</th>\n",
              "      <td>2016</td>\n",
              "      <td>10</td>\n",
              "      <td>1.75</td>\n",
              "      <td>5.8</td>\n",
              "      <td>943</td>\n",
              "    </tr>\n",
              "    <tr>\n",
              "      <th>15</th>\n",
              "      <td>2016</td>\n",
              "      <td>9</td>\n",
              "      <td>1.75</td>\n",
              "      <td>6.1</td>\n",
              "      <td>958</td>\n",
              "    </tr>\n",
              "    <tr>\n",
              "      <th>16</th>\n",
              "      <td>2016</td>\n",
              "      <td>8</td>\n",
              "      <td>1.75</td>\n",
              "      <td>6.2</td>\n",
              "      <td>971</td>\n",
              "    </tr>\n",
              "    <tr>\n",
              "      <th>17</th>\n",
              "      <td>2016</td>\n",
              "      <td>7</td>\n",
              "      <td>1.75</td>\n",
              "      <td>6.1</td>\n",
              "      <td>949</td>\n",
              "    </tr>\n",
              "    <tr>\n",
              "      <th>18</th>\n",
              "      <td>2016</td>\n",
              "      <td>6</td>\n",
              "      <td>1.75</td>\n",
              "      <td>6.1</td>\n",
              "      <td>884</td>\n",
              "    </tr>\n",
              "    <tr>\n",
              "      <th>19</th>\n",
              "      <td>2016</td>\n",
              "      <td>5</td>\n",
              "      <td>1.75</td>\n",
              "      <td>6.1</td>\n",
              "      <td>866</td>\n",
              "    </tr>\n",
              "    <tr>\n",
              "      <th>20</th>\n",
              "      <td>2016</td>\n",
              "      <td>4</td>\n",
              "      <td>1.75</td>\n",
              "      <td>5.9</td>\n",
              "      <td>876</td>\n",
              "    </tr>\n",
              "    <tr>\n",
              "      <th>21</th>\n",
              "      <td>2016</td>\n",
              "      <td>3</td>\n",
              "      <td>1.75</td>\n",
              "      <td>6.2</td>\n",
              "      <td>822</td>\n",
              "    </tr>\n",
              "    <tr>\n",
              "      <th>22</th>\n",
              "      <td>2016</td>\n",
              "      <td>2</td>\n",
              "      <td>1.75</td>\n",
              "      <td>6.2</td>\n",
              "      <td>704</td>\n",
              "    </tr>\n",
              "    <tr>\n",
              "      <th>23</th>\n",
              "      <td>2016</td>\n",
              "      <td>1</td>\n",
              "      <td>1.75</td>\n",
              "      <td>6.1</td>\n",
              "      <td>719</td>\n",
              "    </tr>\n",
              "  </tbody>\n",
              "</table>\n",
              "</div>"
            ],
            "text/plain": [
              "    Year  Month  Interest_Rate  Unemployment_Rate  Stock_Index_Price\n",
              "0   2017     12           2.75                5.3               1464\n",
              "1   2017     11           2.50                5.3               1394\n",
              "2   2017     10           2.50                5.3               1357\n",
              "3   2017      9           2.50                5.3               1293\n",
              "4   2017      8           2.50                5.4               1256\n",
              "5   2017      7           2.50                5.6               1254\n",
              "6   2017      6           2.50                5.5               1234\n",
              "7   2017      5           2.25                5.5               1195\n",
              "8   2017      4           2.25                5.5               1159\n",
              "9   2017      3           2.25                5.6               1167\n",
              "10  2017      2           2.00                5.7               1130\n",
              "11  2017      1           2.00                5.9               1075\n",
              "12  2016     12           2.00                6.0               1047\n",
              "13  2016     11           1.75                5.9                965\n",
              "14  2016     10           1.75                5.8                943\n",
              "15  2016      9           1.75                6.1                958\n",
              "16  2016      8           1.75                6.2                971\n",
              "17  2016      7           1.75                6.1                949\n",
              "18  2016      6           1.75                6.1                884\n",
              "19  2016      5           1.75                6.1                866\n",
              "20  2016      4           1.75                5.9                876\n",
              "21  2016      3           1.75                6.2                822\n",
              "22  2016      2           1.75                6.2                704\n",
              "23  2016      1           1.75                6.1                719"
            ]
          },
          "metadata": {
            "tags": []
          },
          "execution_count": 8
        }
      ]
    },
    {
      "cell_type": "markdown",
      "metadata": {
        "id": "fzUZlicit7G6"
      },
      "source": [
        "### Regression Coefficient using Scikit Learn:"
      ]
    },
    {
      "cell_type": "code",
      "metadata": {
        "id": "YlemXdxyrFJi"
      },
      "source": [
        "from sklearn.linear_model import LinearRegression\n",
        "lr = LinearRegression().fit(X,Y)"
      ],
      "execution_count": 9,
      "outputs": []
    },
    {
      "cell_type": "code",
      "metadata": {
        "id": "FPBPIP1brl7p",
        "colab": {
          "base_uri": "https://localhost:8080/"
        },
        "outputId": "0faaa722-1bee-49d8-c23c-4f4e9f3e8a00"
      },
      "source": [
        "print(\"Value obtained using Scikit Learn \\n\\nb1:{} \\nb2:{} \\nb0:{}\".format(lr.coef_[0],lr.coef_[1],lr.intercept_))"
      ],
      "execution_count": 27,
      "outputs": [
        {
          "output_type": "stream",
          "text": [
            "Value obtained using Scikit Learn \n",
            "\n",
            "b1:345.54008701056574 \n",
            "b2:-250.14657136938058 \n",
            "b0:1798.4039776258546\n"
          ],
          "name": "stdout"
        }
      ]
    },
    {
      "cell_type": "markdown",
      "metadata": {
        "id": "wvgnPr5zhP0R"
      },
      "source": [
        "### Using linear optimization to minimize the sum of absotule deviations:"
      ]
    },
    {
      "cell_type": "code",
      "metadata": {
        "id": "I5_TUseBtFuP",
        "colab": {
          "base_uri": "https://localhost:8080/"
        },
        "outputId": "0aad8578-47eb-4084-f2fb-783c4e17260f"
      },
      "source": [
        "pip install pulp"
      ],
      "execution_count": 11,
      "outputs": [
        {
          "output_type": "stream",
          "text": [
            "Requirement already satisfied: pulp in /usr/local/lib/python3.6/dist-packages (2.3.1)\n",
            "Requirement already satisfied: amply>=0.1.2 in /usr/local/lib/python3.6/dist-packages (from pulp) (0.1.4)\n",
            "Requirement already satisfied: docutils>=0.3 in /usr/local/lib/python3.6/dist-packages (from amply>=0.1.2->pulp) (0.16)\n",
            "Requirement already satisfied: pyparsing in /usr/local/lib/python3.6/dist-packages (from amply>=0.1.2->pulp) (2.4.7)\n"
          ],
          "name": "stdout"
        }
      ]
    },
    {
      "cell_type": "code",
      "metadata": {
        "id": "SqQ3seuRYIso"
      },
      "source": [
        "import pulp as plp\n",
        "from pulp import *"
      ],
      "execution_count": 12,
      "outputs": []
    },
    {
      "cell_type": "code",
      "metadata": {
        "colab": {
          "base_uri": "https://localhost:8080/"
        },
        "id": "MbB-KzS0YO-P",
        "outputId": "e942ef7a-c921-4402-cce7-6207ec54c4cf"
      },
      "source": [
        "prob = LpProblem(name = \"LP_Sum of Absotule Deviations:\")\n",
        "prob.sense = LpMinimize"
      ],
      "execution_count": 28,
      "outputs": [
        {
          "output_type": "stream",
          "text": [
            "/usr/local/lib/python3.6/dist-packages/pulp/pulp.py:1198: UserWarning: Spaces are not permitted in the name. Converted to '_'\n",
            "  warnings.warn(\"Spaces are not permitted in the name. Converted to '_'\")\n"
          ],
          "name": "stderr"
        }
      ]
    },
    {
      "cell_type": "code",
      "metadata": {
        "id": "iNnxocjpYbNw"
      },
      "source": [
        "b0 = LpVariable(name = \"b0\", cat = LpContinuous)\n",
        "b1 = LpVariable(name = \"b1\", cat = LpContinuous)\n",
        "b2 = LpVariable(name = \"b2\", cat = LpContinuous)\n",
        "Z = {i: LpVariable(name = \"Z_{}\".format(i), cat = LpContinuous) for i in range(24)}"
      ],
      "execution_count": 29,
      "outputs": []
    },
    {
      "cell_type": "code",
      "metadata": {
        "id": "OfQ_TJfUbNXX"
      },
      "source": [
        "for i in range(24):\n",
        "    prob += Z[i] >= Stock_Market['Stock_Index_Price'][i] - b0 - b1*Stock_Market['Interest_Rate'][i] - b2*Stock_Market['Unemployment_Rate'][i]\n",
        "for i in range(24):\n",
        "    prob += Z[i] >= -(Stock_Market['Stock_Index_Price'][i] - b0 - b1*Stock_Market['Interest_Rate'][i] - b2*Stock_Market['Unemployment_Rate'][i])"
      ],
      "execution_count": 30,
      "outputs": []
    },
    {
      "cell_type": "code",
      "metadata": {
        "colab": {
          "base_uri": "https://localhost:8080/"
        },
        "id": "Nk5D9rZCYnOn",
        "outputId": "903ca333-8ebc-4576-8e3f-3d3749c9daed"
      },
      "source": [
        "Objective = lpSum(Z[i] for i in range(24))\n",
        "prob.setObjective(Objective)\n",
        "prob.solve()"
      ],
      "execution_count": 31,
      "outputs": [
        {
          "output_type": "execute_result",
          "data": {
            "text/plain": [
              "1"
            ]
          },
          "metadata": {
            "tags": []
          },
          "execution_count": 31
        }
      ]
    },
    {
      "cell_type": "code",
      "metadata": {
        "colab": {
          "base_uri": "https://localhost:8080/"
        },
        "id": "kmJmofNWbJTa",
        "outputId": "435a79ec-034f-4319-c66a-2408f80003f1"
      },
      "source": [
        "print(\"Objective Function Value = \", value(prob.objective) )\n",
        "print(\"\\n\")\n",
        "print(\"Optimal Solution:\")\n",
        "for v in [b1,b2,b0]:\n",
        "    if v in [b1,b0,b2]:\n",
        "        print(v.name, \"=\", v.varValue)"
      ],
      "execution_count": 32,
      "outputs": [
        {
          "output_type": "stream",
          "text": [
            "Objective Function Value =  1226.6\n",
            "\n",
            "\n",
            "Optimal Solution:\n",
            "b1 = 348.0\n",
            "b2 = -218.0\n",
            "b0 = 1604.8\n"
          ],
          "name": "stdout"
        }
      ]
    }
  ]
}